{
 "nbformat": 4,
 "nbformat_minor": 2,
 "metadata": {
  "language_info": {
   "name": "python",
   "codemirror_mode": {
    "name": "ipython",
    "version": 3
   },
   "version": "3.6.2-final"
  },
  "orig_nbformat": 2,
  "file_extension": ".py",
  "mimetype": "text/x-python",
  "name": "python",
  "npconvert_exporter": "python",
  "pygments_lexer": "ipython3",
  "version": 3,
  "kernelspec": {
   "name": "python37364bitbaseconda9f12be352ae740e8a40bfb575b308c8a",
   "display_name": "Python 3.7.3 64-bit ('base': conda)"
  }
 },
 "cells": [
  {
   "cell_type": "code",
   "execution_count": 1,
   "metadata": {},
   "outputs": [],
   "source": [
    "\n",
    "import numpy as np\n",
    "from itertools import count\n",
    "import random\n",
    "from numba import njit\n",
    "import der\n",
    "import matplotlib.animation as animation\n",
    "import matplotlib.pyplot as plt\n",
    "import matplotlib.patches as patches\n",
    ""
   ]
  },
  {
   "cell_type": "code",
   "execution_count": null,
   "metadata": {},
   "outputs": [],
   "source": [
    "\n",
    "v_length = np.array([[30,10,31,11,32]]).T\n",
    "v_compliance = np.array([[0,2,0,4,0]]).T\n",
    "v_max_phi = np.array([[0,90,0,90,0]]).T\n",
    "\n",
    "v_morphology_parameters = np.hstack((v_compliance,v_max_phi))\n",
    "v_kinematic_parameters = v_length\n",
    "\n",
    "u = 0"
   ]
  },
  {
   "cell_type": "code",
   "execution_count": null,
   "metadata": {},
   "outputs": [],
   "source": [
    "@njit\n",
    "def kinematics_builder(v_kinematic_parameters):\n",
    "    n_points = len(v_kinematic_parameters)+1\n",
    "    v_points0 = np.zeros((n_points,3))\n",
    "    v_frames = np.zeros((n_points,9))\n",
    "    for i in range(n_points):\n",
    "\n",
    "    return v_frames\n"
   ]
  },
  {
   "cell_type": "code",
   "execution_count": null,
   "metadata": {},
   "outputs": [],
   "source": [
    "@njit\n",
    "def nodes_from_morphology(v_morphology_parameters):\n",
    "    n_nodes = len(v_morphology_parameters)\n",
    "    node_params = np.zeros((n_nodes,2)) #phi/u s/u\n",
    "    for i in range(n_nodes):\n",
    "        node_params[i,:] = \n",
    "\n"
   ]
  },
  {
   "cell_type": "code",
   "execution_count": 2,
   "metadata": {},
   "outputs": [],
   "source": [
    "def setup():\n",
    "    rect = patches.Rectangle((0.5,0.5),0.1,0.1,color = 'r')\n",
    "    return rect\n",
    "\n",
    "\n",
    "def update_rect(frame,viewport,rect):\n",
    "    x,y = rect.get_xy()\n",
    "    x+= -0.01+random.random()/50\n",
    "    y+= -0.01+random.random()/50\n",
    "    rect.set_xy((x,y))\n",
    "    viewport.add_patch(rect)\n",
    "    return rect,\n",
    "\n",
    "    \n",
    "\n",
    ""
   ]
  },
  {
   "cell_type": "code",
   "execution_count": 3,
   "metadata": {},
   "outputs": [
    {
     "output_type": "display_data",
     "data": {
      "image/png": "[encoded data removed]",
      "image/svg+xml": "<?xml version=\"1.0\" encoding=\"utf-8\" standalone=\"no\"?>\n<!DOCTYPE svg PUBLIC \"-//W3C//DTD SVG 1.1//EN\"\n  \"http://www.w3.org/Graphics/SVG/1.1/DTD/svg11.dtd\">\n<!-- Created with matplotlib (https://matplotlib.org/) -->\n<svg height=\"302.4pt\" version=\"1.1\" viewBox=\"0 0 446.4 302.4\" width=\"446.4pt\" xmlns=\"http://www.w3.org/2000/svg\" xmlns:xlink=\"http://www.w3.org/1999/xlink\">\n <defs>\n  <style type=\"text/css\">\n*{stroke-linecap:butt;stroke-linejoin:round;}\n  </style>\n </defs>\n <g id=\"figure_1\">\n  <g id=\"patch_1\">\n   <path d=\"M 0 302.4 \nL 446.4 302.4 \nL 446.4 0 \nL 0 0 \nz\n\" style=\"fill:none;\"/>\n  </g>\n  <g id=\"axes_1\"/>\n </g>\n</svg>\n",
      "text/plain": "<Figure size 432x288 with 1 Axes>"
     },
     "metadata": {
      "needs_background": "light"
     }
    }
   ],
   "source": [
    "fig = plt.figure()\n",
    "viewport = fig.add_axes([0,0,1,1],frameon=False,label =\"viewport\",facecolor = 'k')\n",
    "viewport.xaxis.set_visible(False)\n",
    "viewport.yaxis.set_visible(False)\n",
    "from functools import partial\n",
    "rect = patches.Rectangle((0.5,0.5),0.1,0.1,color = 'r')\n",
    "tick = partial(update_rect,viewport= viewport,rect=rect)\n",
    ""
   ]
  },
  {
   "cell_type": "code",
   "execution_count": 4,
   "metadata": {},
   "outputs": [],
   "source": [
    "fps = 30\n",
    "writer = animation.writers['ffmpeg']\n",
    "writer = writer(fps =30, metadata=dict(artist='Keene Chin'), bitrate=100)\n",
    "ani = animation.FuncAnimation(fig,func=tick,interval=1000//fps,frames=1000,blit=True)\n",
    "ani.save('test.mp4', writer=writer)\n",
    "\n",
    ""
   ]
  },
  {
   "cell_type": "code",
   "execution_count": null,
   "metadata": {},
   "outputs": [],
   "source": []
  }
 ]
}